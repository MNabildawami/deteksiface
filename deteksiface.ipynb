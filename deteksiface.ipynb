{
  "nbformat": 4,
  "nbformat_minor": 0,
  "metadata": {
    "colab": {
      "provenance": [],
      "mount_file_id": "17M3r4H0jAnMy9SaJL94rUFqe4lf7USeY",
      "authorship_tag": "ABX9TyN5eTUR0Y8mZywd/RJia8d6",
      "include_colab_link": true
    },
    "kernelspec": {
      "name": "python3",
      "display_name": "Python 3"
    },
    "language_info": {
      "name": "python"
    }
  },
  "cells": [
    {
      "cell_type": "markdown",
      "metadata": {
        "id": "view-in-github",
        "colab_type": "text"
      },
      "source": [
        "<a href=\"https://colab.research.google.com/github/MNabildawami/deteksiface/blob/main/deteksiface.ipynb\" target=\"_parent\"><img src=\"https://colab.research.google.com/assets/colab-badge.svg\" alt=\"Open In Colab\"/></a>"
      ]
    },
    {
      "cell_type": "code",
      "source": [
        "from google.colab import drive\n",
        "drive.mount('/content/drive')\n"
      ],
      "metadata": {
        "colab": {
          "base_uri": "https://localhost:8080/"
        },
        "id": "uuNOnmjHWstT",
        "outputId": "577e9974-e03e-4f12-9201-48530d55d422"
      },
      "execution_count": null,
      "outputs": [
        {
          "output_type": "stream",
          "name": "stdout",
          "text": [
            "Drive already mounted at /content/drive; to attempt to forcibly remount, call drive.mount(\"/content/drive\", force_remount=True).\n"
          ]
        }
      ]
    },
    {
      "cell_type": "code",
      "source": [
        "!pip install pyheif"
      ],
      "metadata": {
        "colab": {
          "base_uri": "https://localhost:8080/"
        },
        "id": "2dE5Rss1IoKY",
        "outputId": "59398d30-eb1f-4dc0-bb25-2cb7ba8a6dbb"
      },
      "execution_count": 73,
      "outputs": [
        {
          "output_type": "stream",
          "name": "stdout",
          "text": [
            "Requirement already satisfied: pyheif in /usr/local/lib/python3.10/dist-packages (0.8.0)\n",
            "Requirement already satisfied: cffi>=1.0.0 in /usr/local/lib/python3.10/dist-packages (from pyheif) (1.17.1)\n",
            "Requirement already satisfied: pycparser in /usr/local/lib/python3.10/dist-packages (from cffi>=1.0.0->pyheif) (2.22)\n"
          ]
        }
      ]
    },
    {
      "cell_type": "markdown",
      "source": [
        "EKSTRASI FITUR CIRI GEOMETRI"
      ],
      "metadata": {
        "id": "dc-Cb0L7opXc"
      }
    },
    {
      "cell_type": "code",
      "execution_count": 97,
      "metadata": {
        "colab": {
          "base_uri": "https://localhost:8080/",
          "height": 770
        },
        "id": "qTIVlSz2Pk1S",
        "outputId": "25424e93-e25b-46d9-a060-7d96967697fa"
      },
      "outputs": [
        {
          "output_type": "stream",
          "name": "stdout",
          "text": [
            "Best parameters found:  {'hidden_layer_sizes': (128, 64), 'learning_rate_init': 0.001, 'solver': 'adam'}\n",
            "MLP Model Accuracy: 100.00%\n",
            "\n",
            "Classification Report:\n",
            "              precision    recall  f1-score   support\n",
            "\n",
            "       Fajri       1.00      1.00      1.00         4\n",
            "       nabil       1.00      1.00      1.00         2\n",
            "\n",
            "    accuracy                           1.00         6\n",
            "   macro avg       1.00      1.00      1.00         6\n",
            "weighted avg       1.00      1.00      1.00         6\n",
            "\n"
          ]
        },
        {
          "output_type": "display_data",
          "data": {
            "text/plain": [
              "<Figure size 640x480 with 2 Axes>"
            ],
            "image/png": "[encoded data removed]"
          },
          "metadata": {}
        },
        {
          "output_type": "stream",
          "name": "stdout",
          "text": [
            "Predicted Name: nabil\n"
          ]
        },
        {
          "output_type": "stream",
          "name": "stderr",
          "text": [
            "/usr/local/lib/python3.10/dist-packages/sklearn/base.py:493: UserWarning: X does not have valid feature names, but StandardScaler was fitted with feature names\n",
            "  warnings.warn(\n"
          ]
        }
      ],
      "source": [
        "import cv2\n",
        "import dlib\n",
        "import os\n",
        "import pandas as pd\n",
        "import numpy as np\n",
        "from sklearn.neural_network import MLPClassifier\n",
        "from sklearn.model_selection import train_test_split, GridSearchCV\n",
        "from sklearn.metrics import accuracy_score, classification_report, confusion_matrix\n",
        "from imblearn.over_sampling import SMOTE\n",
        "from sklearn.preprocessing import StandardScaler\n",
        "import pyheif\n",
        "from PIL import Image\n",
        "import io\n",
        "import matplotlib.pyplot as plt\n",
        "import seaborn as sns\n",
        "\n",
        "# Download and extract the model file if not already extracted\n",
        "model_path = \"shape_predictor_68_face_landmarks.dat\"\n",
        "if not os.path.exists(model_path):\n",
        "    !wget http://dlib.net/files/shape_predictor_68_face_landmarks.dat.bz2\n",
        "    !bzip2 -d shape_predictor_68_face_landmarks.dat.bz2\n",
        "\n",
        "# Load face detector and landmark predictor model\n",
        "detector = dlib.get_frontal_face_detector()\n",
        "predictor = dlib.shape_predictor(model_path)\n",
        "\n",
        "# =============================== Feature Extraction ===============================\n",
        "\n",
        "# Function to extract face landmarks data\n",
        "def extract_face_landmarks_data(image):\n",
        "    gray = cv2.cvtColor(image, cv2.COLOR_BGR2GRAY)\n",
        "    faces = detector(gray)\n",
        "\n",
        "    if len(faces) == 0:\n",
        "        print(\"No faces detected.\")\n",
        "        return None\n",
        "\n",
        "    landmarks_data = []\n",
        "    for face in faces:\n",
        "        landmarks = predictor(gray, face)\n",
        "        for n in range(0, 68):\n",
        "            x = landmarks.part(n).x\n",
        "            y = landmarks.part(n).y\n",
        "            landmarks_data.append((x, y))  # Add (x, y) coordinates to list\n",
        "    return landmarks_data\n",
        "\n",
        "# Function to read HEIC images\n",
        "def read_heic_image(heic_file):\n",
        "    heif_file = pyheif.read(heic_file)\n",
        "    image = Image.open(io.BytesIO(heif_file.data))\n",
        "    return np.array(image)\n",
        "\n",
        "# Function to process images in folder\n",
        "def process_folder_images(folder_path):\n",
        "    data = []\n",
        "    labels = []\n",
        "\n",
        "    if not os.path.exists(folder_path):\n",
        "        print(f\"Folder {folder_path} does not exist!\")\n",
        "        return None, None\n",
        "\n",
        "    # Loop through all subfolders in the main folder\n",
        "    for folder_name in os.listdir(folder_path):\n",
        "        folder = os.path.join(folder_path, folder_name)\n",
        "\n",
        "        if os.path.isdir(folder):\n",
        "            # Loop through all images in the subfolder\n",
        "            for file_name in os.listdir(folder):\n",
        "                file_path = os.path.join(folder, file_name)\n",
        "\n",
        "                if file_name.lower().endswith(('.jpg', '.jpeg', '.png', '.heic')):  # Filter image files\n",
        "                    try:\n",
        "                        if file_name.lower().endswith('.heic'):\n",
        "                            image = read_heic_image(file_path)\n",
        "                        else:\n",
        "                            image = cv2.imread(file_path)\n",
        "\n",
        "                        if image is None:\n",
        "                            print(f\"Image {file_name} not found or could not be loaded!\")\n",
        "                            continue\n",
        "\n",
        "                        landmarks_data = extract_face_landmarks_data(image)\n",
        "\n",
        "                        if landmarks_data is not None:\n",
        "                            flattened_landmarks = [coord for point in landmarks_data for coord in point]\n",
        "                            data.append(flattened_landmarks)\n",
        "                            labels.append(folder_name)  # Use folder_name as the label\n",
        "\n",
        "                    except Exception as e:\n",
        "                        print(f\"Error processing {file_name}: {e}\")\n",
        "                        continue\n",
        "\n",
        "    # Create dataframe for the data\n",
        "    column_names = [f'x{i+1}' for i in range(68)] + [f'y{i+1}' for i in range(68)]\n",
        "    df = pd.DataFrame(data, columns=column_names)\n",
        "\n",
        "    # Add the labels as a column in the dataframe\n",
        "    df['label'] = labels\n",
        "\n",
        "    # Save the extracted features and labels to CSV and Excel\n",
        "    df.to_csv('extracted_features.csv', index=False)\n",
        "    df.to_excel('extracted_features.xlsx', index=False)\n",
        "\n",
        "    return df, labels\n",
        "\n",
        "# =============================== Feature Extraction (End) ===============================\n",
        "\n",
        "# =============================== Classification ===============================\n",
        "\n",
        "# Define predict_image function\n",
        "def predict_image(image_path, model, scaler):\n",
        "    image = cv2.imread(image_path)\n",
        "\n",
        "    if image is None:\n",
        "        print(f\"Image at {image_path} could not be loaded.\")\n",
        "        return None\n",
        "\n",
        "    landmarks_data = extract_face_landmarks_data(image)\n",
        "\n",
        "    if landmarks_data is None:\n",
        "        print(\"No face detected in the image!\")\n",
        "        return None\n",
        "\n",
        "    flattened_landmarks = [coord for point in landmarks_data for coord in point]\n",
        "    flattened_landmarks = scaler.transform([flattened_landmarks])  # Apply scaling\n",
        "\n",
        "    predicted_name = model.predict(flattened_landmarks)\n",
        "\n",
        "    return predicted_name[0]\n",
        "\n",
        "# Set folder paths for training and testing data\n",
        "train_folder_path = '/content/drive/MyDrive/footage item pengpol /data_latih'\n",
        "test_folder_path = '/content/drive/MyDrive/footage item pengpol/data_uji'\n",
        "\n",
        "# Ensure that the training folder exists\n",
        "if not os.path.exists(train_folder_path):\n",
        "    print(f\"Training folder '{train_folder_path}' does not exist.\")\n",
        "else:\n",
        "    # Process all images in the training folder\n",
        "    landmarks_df, labels = process_folder_images(train_folder_path)\n",
        "\n",
        "    if landmarks_df is not None:\n",
        "        # Split dataset into training and testing sets (70% training, 30% testing)\n",
        "        X_train, X_test, y_train, y_test = train_test_split(landmarks_df.drop(columns=['label']), labels, test_size=0.3, random_state=42)\n",
        "\n",
        "        # Handle class imbalance using SMOTE\n",
        "        smote = SMOTE(random_state=42, k_neighbors=1)\n",
        "        X_train_resampled, y_train_resampled = smote.fit_resample(X_train, y_train)\n",
        "\n",
        "        # Scale features\n",
        "        scaler = StandardScaler()\n",
        "        X_train_resampled = scaler.fit_transform(X_train_resampled)\n",
        "        X_test_scaled = scaler.transform(X_test)\n",
        "\n",
        "        # Train an MLP classifier with grid search for hyperparameter tuning\n",
        "        mlp_classifier = MLPClassifier(max_iter=500, random_state=42)\n",
        "\n",
        "        # Set parameter grid for GridSearchCV\n",
        "        param_grid = {\n",
        "            'hidden_layer_sizes': [(128, 64), (256, 128)],\n",
        "            'solver': ['adam', 'sgd'],\n",
        "            'learning_rate_init': [0.001, 0.01],\n",
        "        }\n",
        "\n",
        "        grid_search = GridSearchCV(mlp_classifier, param_grid, cv=3, n_jobs=-1)\n",
        "        grid_search.fit(X_train_resampled, y_train_resampled)\n",
        "\n",
        "        print(\"Best parameters found: \", grid_search.best_params_)\n",
        "\n",
        "        # Use the best model from GridSearchCV\n",
        "        best_mlp_classifier = grid_search.best_estimator_\n",
        "\n",
        "        # Predict labels for test data\n",
        "        y_pred = best_mlp_classifier.predict(X_test_scaled)\n",
        "\n",
        "        # Evaluate the classifier\n",
        "        accuracy = accuracy_score(y_test, y_pred)\n",
        "        print(f\"MLP Model Accuracy: {accuracy * 100:.2f}%\")\n",
        "\n",
        "        # Display classification report\n",
        "        print(\"\\nClassification Report:\")\n",
        "        print(classification_report(y_test, y_pred))\n",
        "\n",
        "        # Display confusion matrix\n",
        "        cm = confusion_matrix(y_test, y_pred)\n",
        "        sns.heatmap(cm, annot=True, fmt=\"d\", cmap=\"Blues\", xticklabels=np.unique(labels), yticklabels=np.unique(labels))\n",
        "        plt.title(\"Confusion Matrix\")\n",
        "        plt.xlabel(\"Predicted Label\")\n",
        "        plt.ylabel(\"True Label\")\n",
        "        plt.show()\n",
        "\n",
        "        # Test with an image\n",
        "        test_image_path = '/content/drive/MyDrive/footage item pengpol /data_uji/Salinan 20241118_222938.jpg'\n",
        "        predicted_name = predict_image(test_image_path, best_mlp_classifier, scaler)\n",
        "\n",
        "        if predicted_name:\n",
        "            print(f\"Predicted Name: {predicted_name}\")\n",
        "        else:\n",
        "            print(\"No face detected in test image!\")\n",
        "\n",
        "# =============================== Classification (End) ===============================\n"
      ]
    }
  ]
}