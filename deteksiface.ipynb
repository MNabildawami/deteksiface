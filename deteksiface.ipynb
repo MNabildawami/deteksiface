{
  "nbformat": 4,
  "nbformat_minor": 0,
  "metadata": {
    "colab": {
      "provenance": [],
      "mount_file_id": "17M3r4H0jAnMy9SaJL94rUFqe4lf7USeY",
      "authorship_tag": "ABX9TyNjM7c414nFeez0B0Ws9yUG",
      "include_colab_link": true
    },
    "kernelspec": {
      "name": "python3",
      "display_name": "Python 3"
    },
    "language_info": {
      "name": "python"
    }
  },
  "cells": [
    {
      "cell_type": "markdown",
      "metadata": {
        "id": "view-in-github",
        "colab_type": "text"
      },
      "source": [
        "<a href=\"https://colab.research.google.com/github/MNabildawami/deteksiface/blob/main/deteksiface.ipynb\" target=\"_parent\"><img src=\"https://colab.research.google.com/assets/colab-badge.svg\" alt=\"Open In Colab\"/></a>"
      ]
    },
    {
      "cell_type": "code",
      "source": [
        "from google.colab import drive\n",
        "drive.mount('/content/drive')\n"
      ],
      "metadata": {
        "id": "uuNOnmjHWstT",
        "colab": {
          "base_uri": "https://localhost:8080/"
        },
        "outputId": "048a0632-a12c-4216-f6a7-fade23ba51b9"
      },
      "execution_count": 35,
      "outputs": [
        {
          "output_type": "stream",
          "name": "stdout",
          "text": [
            "Drive already mounted at /content/drive; to attempt to forcibly remount, call drive.mount(\"/content/drive\", force_remount=True).\n"
          ]
        }
      ]
    },
    {
      "cell_type": "code",
      "source": [
        "pip install opencv-python dlib pandas"
      ],
      "metadata": {
        "id": "2dE5Rss1IoKY",
        "colab": {
          "base_uri": "https://localhost:8080/"
        },
        "outputId": "9832614c-8fe8-4271-97b9-eb8448a1e44c"
      },
      "execution_count": 36,
      "outputs": [
        {
          "output_type": "stream",
          "name": "stdout",
          "text": [
            "Requirement already satisfied: opencv-python in /usr/local/lib/python3.10/dist-packages (4.10.0.84)\n",
            "Requirement already satisfied: dlib in /usr/local/lib/python3.10/dist-packages (19.24.2)\n",
            "Requirement already satisfied: pandas in /usr/local/lib/python3.10/dist-packages (2.2.2)\n",
            "Requirement already satisfied: numpy>=1.21.2 in /usr/local/lib/python3.10/dist-packages (from opencv-python) (1.26.4)\n",
            "Requirement already satisfied: python-dateutil>=2.8.2 in /usr/local/lib/python3.10/dist-packages (from pandas) (2.8.2)\n",
            "Requirement already satisfied: pytz>=2020.1 in /usr/local/lib/python3.10/dist-packages (from pandas) (2024.2)\n",
            "Requirement already satisfied: tzdata>=2022.7 in /usr/local/lib/python3.10/dist-packages (from pandas) (2024.2)\n",
            "Requirement already satisfied: six>=1.5 in /usr/local/lib/python3.10/dist-packages (from python-dateutil>=2.8.2->pandas) (1.17.0)\n"
          ]
        }
      ]
    },
    {
      "cell_type": "code",
      "source": [
        "pip install --upgrade dlib"
      ],
      "metadata": {
        "id": "pEKbHexZwmtM",
        "colab": {
          "base_uri": "https://localhost:8080/"
        },
        "outputId": "948dffe6-f91b-4cda-e424-a51dafca9fc8"
      },
      "execution_count": 37,
      "outputs": [
        {
          "output_type": "stream",
          "name": "stdout",
          "text": [
            "Requirement already satisfied: dlib in /usr/local/lib/python3.10/dist-packages (19.24.2)\n",
            "Collecting dlib\n",
            "  Using cached dlib-19.24.6.tar.gz (3.4 MB)\n",
            "  Preparing metadata (setup.py) ... \u001b[?25l\u001b[?25hdone\n",
            "Building wheels for collected packages: dlib\n",
            "  Building wheel for dlib (setup.py) ... \u001b[?25l\u001b[?25hcanceled\n",
            "\u001b[31mERROR: Operation cancelled by user\u001b[0m\u001b[31m\n",
            "\u001b[0mTraceback (most recent call last):\n",
            "  File \"/usr/local/lib/python3.10/dist-packages/pip/_internal/cli/base_command.py\", line 179, in exc_logging_wrapper\n",
            "    status = run_func(*args)\n",
            "  File \"/usr/local/lib/python3.10/dist-packages/pip/_internal/cli/req_command.py\", line 67, in wrapper\n",
            "    return func(self, options, args)\n",
            "  File \"/usr/local/lib/python3.10/dist-packages/pip/_internal/commands/install.py\", line 423, in run\n",
            "    _, build_failures = build(\n",
            "  File \"/usr/local/lib/python3.10/dist-packages/pip/_internal/wheel_builder.py\", line 319, in build\n",
            "    wheel_file = _build_one(\n",
            "  File \"/usr/local/lib/python3.10/dist-packages/pip/_internal/wheel_builder.py\", line 193, in _build_one\n",
            "    wheel_path = _build_one_inside_env(\n",
            "  File \"/usr/local/lib/python3.10/dist-packages/pip/_internal/wheel_builder.py\", line 240, in _build_one_inside_env\n",
            "    wheel_path = build_wheel_legacy(\n",
            "  File \"/usr/local/lib/python3.10/dist-packages/pip/_internal/operations/build/wheel_legacy.py\", line 83, in build_wheel_legacy\n",
            "    output = call_subprocess(\n",
            "  File \"/usr/local/lib/python3.10/dist-packages/pip/_internal/utils/subprocess.py\", line 151, in call_subprocess\n",
            "    line: str = proc.stdout.readline()\n",
            "  File \"/usr/lib/python3.10/codecs.py\", line 319, in decode\n",
            "    def decode(self, input, final=False):\n",
            "KeyboardInterrupt\n",
            "\n",
            "During handling of the above exception, another exception occurred:\n",
            "\n",
            "Traceback (most recent call last):\n",
            "  File \"/usr/local/bin/pip3\", line 8, in <module>\n",
            "    sys.exit(main())\n",
            "  File \"/usr/local/lib/python3.10/dist-packages/pip/_internal/cli/main.py\", line 80, in main\n",
            "    return command.main(cmd_args)\n",
            "  File \"/usr/local/lib/python3.10/dist-packages/pip/_internal/cli/base_command.py\", line 100, in main\n",
            "    return self._main(args)\n",
            "  File \"/usr/local/lib/python3.10/dist-packages/pip/_internal/cli/base_command.py\", line 232, in _main\n",
            "    return run(options, args)\n",
            "  File \"/usr/local/lib/python3.10/dist-packages/pip/_internal/cli/base_command.py\", line 215, in exc_logging_wrapper\n",
            "    logger.critical(\"Operation cancelled by user\")\n",
            "  File \"/usr/lib/python3.10/logging/__init__.py\", line 1524, in critical\n",
            "    self._log(CRITICAL, msg, args, **kwargs)\n",
            "  File \"/usr/lib/python3.10/logging/__init__.py\", line 1624, in _log\n",
            "    self.handle(record)\n",
            "  File \"/usr/lib/python3.10/logging/__init__.py\", line 1634, in handle\n",
            "    self.callHandlers(record)\n",
            "  File \"/usr/lib/python3.10/logging/__init__.py\", line 1696, in callHandlers\n",
            "    hdlr.handle(record)\n",
            "  File \"/usr/lib/python3.10/logging/__init__.py\", line 968, in handle\n",
            "    self.emit(record)\n",
            "  File \"/usr/local/lib/python3.10/dist-packages/pip/_internal/utils/logging.py\", line 177, in emit\n",
            "    self.console.print(renderable, overflow=\"ignore\", crop=False, style=style)\n",
            "  File \"/usr/local/lib/python3.10/dist-packages/pip/_vendor/rich/console.py\", line 1673, in print\n",
            "    with self:\n",
            "  File \"/usr/local/lib/python3.10/dist-packages/pip/_vendor/rich/console.py\", line 865, in __exit__\n",
            "    self._exit_buffer()\n",
            "  File \"/usr/local/lib/python3.10/dist-packages/pip/_vendor/rich/console.py\", line 823, in _exit_buffer\n",
            "    self._check_buffer()\n",
            "  File \"/usr/local/lib/python3.10/dist-packages/pip/_vendor/rich/console.py\", line 2060, in _check_buffer\n",
            "    self.file.write(text)\n",
            "KeyboardInterrupt\n",
            "^C\n"
          ]
        }
      ]
    },
    {
      "cell_type": "markdown",
      "source": [
        "# EKSTRASI FITUR CIRI GEOMETRI"
      ],
      "metadata": {
        "id": "dc-Cb0L7opXc"
      }
    },
    {
      "cell_type": "code",
      "execution_count": 50,
      "metadata": {
        "colab": {
          "base_uri": "https://localhost:8080/"
        },
        "id": "qTIVlSz2Pk1S",
        "outputId": "9e7418e3-eace-4765-b60d-cf2d6eec010d"
      },
      "outputs": [
        {
          "output_type": "stream",
          "name": "stdout",
          "text": [
            "Fitur geometri wajah berhasil diekstraksi dan disimpan.\n"
          ]
        }
      ],
      "source": [
        "import os\n",
        "import cv2\n",
        "import dlib\n",
        "import pandas as pd\n",
        "import numpy as np\n",
        "\n",
        "# Inisialisasi deteksi wajah dan landmark dengan dlib\n",
        "detector = dlib.get_frontal_face_detector()\n",
        "predictor = dlib.shape_predictor(\"/content/shape_predictor_68_face_landmarks (2).dat\")  # Unduh model ini dari dlib\n",
        "\n",
        "def extract_landmarks(image_path):\n",
        "    \"\"\"Ekstraksi landmark wajah dari gambar\"\"\"\n",
        "    img = cv2.imread(image_path)\n",
        "    gray = cv2.cvtColor(img, cv2.COLOR_BGR2GRAY)\n",
        "\n",
        "    # Deteksi wajah\n",
        "    faces = detector(gray)\n",
        "    landmarks = []\n",
        "\n",
        "    for face in faces:\n",
        "        # Mendapatkan landmark wajah\n",
        "        shape = predictor(gray, face)\n",
        "        landmarks = [(shape.part(i).x, shape.part(i).y) for i in range(68)]  # 68 titik landmark\n",
        "    return landmarks\n",
        "\n",
        "def calculate_geometrical_features(landmarks):\n",
        "    \"\"\"Menghitung fitur geometris berdasarkan landmark\"\"\"\n",
        "    features = []\n",
        "\n",
        "    # Jarak antar mata kiri dan mata kanan (titik 36-45)\n",
        "    left_eye = np.array(landmarks[36:42])  # Mata kiri (titik 36 hingga 41)\n",
        "    right_eye = np.array(landmarks[42:48])  # Mata kanan (titik 42 hingga 47)\n",
        "\n",
        "    left_eye_center = np.mean(left_eye, axis=0)\n",
        "    right_eye_center = np.mean(right_eye, axis=0)\n",
        "    eye_distance = np.linalg.norm(left_eye_center - right_eye_center)\n",
        "\n",
        "    # Jarak antara hidung dan mulut (titik 27-48)\n",
        "    nose = np.array(landmarks[27:36])  # Titik hidung\n",
        "    mouth = np.array(landmarks[48:60])  # Titik mulut\n",
        "    nose_center = np.mean(nose, axis=0)\n",
        "    mouth_center = np.mean(mouth, axis=0)\n",
        "    nose_mouth_distance = np.linalg.norm(nose_center - mouth_center)\n",
        "\n",
        "    # Jarak antara kedua alis (titik 17-26)\n",
        "    left_brow = np.array(landmarks[17:22])  # Alis kiri (titik 17 hingga 21)\n",
        "    right_brow = np.array(landmarks[22:27])  # Alis kanan (titik 22 hingga 26)\n",
        "\n",
        "    left_brow_center = np.mean(left_brow, axis=0)\n",
        "    right_brow_center = np.mean(right_brow, axis=0)\n",
        "    brow_distance = np.linalg.norm(left_brow_center - right_brow_center)\n",
        "\n",
        "    # Jarak antara hidung dan dagu (titik 27-8)\n",
        "    chin = np.array(landmarks[5:8])  # Titik dagu (titik 5 hingga 8)\n",
        "    nose_chin_distance = np.linalg.norm(nose_center - chin.mean(axis=0))  # Jarak dari hidung ke dagu\n",
        "\n",
        "    # Jarak antara sudut mulut (titik 48 dan 54)\n",
        "    left_corner_of_mouth = np.array(landmarks[48])  # Sudut kiri mulut (titik 48)\n",
        "    right_corner_of_mouth = np.array(landmarks[54])  # Sudut kanan mulut (titik 54)\n",
        "    mouth_corners_distance = np.linalg.norm(left_corner_of_mouth - right_corner_of_mouth)\n",
        "\n",
        "    # Menambahkan fitur ke dalam daftar\n",
        "    features.extend([eye_distance, nose_mouth_distance, brow_distance, nose_chin_distance, mouth_corners_distance])\n",
        "\n",
        "    return features\n",
        "\n",
        "def process_images_in_directory(directory):\n",
        "    \"\"\"Memproses gambar dalam direktori dan sub-direktori\"\"\"\n",
        "    all_features = []\n",
        "    all_labels = []\n",
        "\n",
        "    # Menelusuri semua file gambar dalam folder dan subfolder\n",
        "    for subdir, _, files in os.walk(directory):\n",
        "        # Ambil nama subfolder untuk digunakan sebagai label\n",
        "        subfolder_name = subdir.split(os.sep)[-1]\n",
        "\n",
        "        for file in files:\n",
        "            if file.lower().endswith(('.jpg', '.jpeg', '.png', '.bmp')):\n",
        "                image_path = os.path.join(subdir, file)\n",
        "                landmarks = extract_landmarks(image_path)\n",
        "\n",
        "                if landmarks:\n",
        "                    features = calculate_geometrical_features(landmarks)\n",
        "                    all_features.append(features)\n",
        "                    all_labels.append(subfolder_name)  # Menyimpan nama sub-folder sebagai label\n",
        "\n",
        "    return all_features, all_labels\n",
        "\n",
        "# Tentukan folder yang berisi gambar wajah\n",
        "image_directory = \"/content/drive/MyDrive/footage_pengpol /data_latih\"  # Ganti dengan path folder Anda\n",
        "\n",
        "# Ekstraksi fitur dari gambar dalam folder dan sub-folder\n",
        "features, labels = process_images_in_directory(image_directory)\n",
        "\n",
        "# Simpan fitur dan label ke dalam DataFrame\n",
        "df = pd.DataFrame(features, columns=[\"Eye Distance\", \"Nose-Mouth Distance\", \"Brow Distance\", \"Nose-Chin Distance\", \"Mouth Corners Distance\"])\n",
        "df[\"Label\"] = labels\n",
        "\n",
        "# Simpan sebagai file CSV\n",
        "df.to_csv(\"face_features.csv\", index=False)\n",
        "\n",
        "# Simpan sebagai file Excel\n",
        "df.to_excel(\"face_features.xlsx\", index=False)\n",
        "\n",
        "print(\"Fitur geometri wajah berhasil diekstraksi dan disimpan.\")\n"
      ]
    },
    {
      "cell_type": "markdown",
      "source": [
        "MEMBAGI 70 % DATA LATIH & 30% DATA UJI"
      ],
      "metadata": {
        "id": "pnP_CXdD1N0B"
      }
    },
    {
      "cell_type": "code",
      "source": [
        "import os\n",
        "import random\n",
        "import pandas as pd\n",
        "import cv2\n",
        "import dlib\n",
        "import numpy as np\n",
        "from google.colab import drive\n",
        "\n",
        "# Mount Google Drive\n",
        "drive.mount('/content/drive')\n",
        "\n",
        "# Inisialisasi deteksi wajah dan landmark dengan dlib\n",
        "detector = dlib.get_frontal_face_detector()\n",
        "predictor = dlib.shape_predictor(\"/content/shape_predictor_68_face_landmarks (2).dat\")  # Unduh model ini dari dlib\n",
        "\n",
        "# Tentukan path folder yang berisi gambar-gambar dalam Google Drive\n",
        "image_directory = \"/content/drive/MyDrive/footage_pengpol /data_latih\"  # Ganti dengan path folder Anda\n",
        "\n",
        "# Fungsi untuk ekstraksi landmark wajah\n",
        "def extract_landmarks(image_path):\n",
        "    \"\"\"Ekstraksi landmark wajah dari gambar\"\"\"\n",
        "    img = cv2.imread(image_path)\n",
        "    gray = cv2.cvtColor(img, cv2.COLOR_BGR2GRAY)\n",
        "\n",
        "    # Deteksi wajah\n",
        "    faces = detector(gray)\n",
        "    landmarks = []\n",
        "\n",
        "    for face in faces:\n",
        "        # Mendapatkan landmark wajah\n",
        "        shape = predictor(gray, face)\n",
        "        landmarks = [(shape.part(i).x, shape.part(i).y) for i in range(68)]  # 68 titik landmark\n",
        "    return landmarks\n",
        "\n",
        "# Fungsi untuk menghitung fitur geometris berdasarkan landmark\n",
        "def calculate_geometrical_features(landmarks):\n",
        "    \"\"\"Menghitung fitur geometris berdasarkan landmark\"\"\"\n",
        "    features = []\n",
        "\n",
        "    # Jarak antar mata kiri dan mata kanan (titik 36-45)\n",
        "    left_eye = np.array(landmarks[36:42])  # Mata kiri (titik 36 hingga 41)\n",
        "    right_eye = np.array(landmarks[42:48])  # Mata kanan (titik 42 hingga 47)\n",
        "\n",
        "    left_eye_center = np.mean(left_eye, axis=0)\n",
        "    right_eye_center = np.mean(right_eye, axis=0)\n",
        "    eye_distance = np.linalg.norm(left_eye_center - right_eye_center)\n",
        "\n",
        "    # Jarak antara hidung dan mulut (titik 27-48)\n",
        "    nose = np.array(landmarks[27:36])  # Titik hidung\n",
        "    mouth = np.array(landmarks[48:60])  # Titik mulut\n",
        "    nose_center = np.mean(nose, axis=0)\n",
        "    mouth_center = np.mean(mouth, axis=0)\n",
        "    nose_mouth_distance = np.linalg.norm(nose_center - mouth_center)\n",
        "\n",
        "    # Jarak antara kedua alis (titik 17-26)\n",
        "    left_brow = np.array(landmarks[17:22])  # Alis kiri (titik 17 hingga 21)\n",
        "    right_brow = np.array(landmarks[22:27])  # Alis kanan (titik 22 hingga 26)\n",
        "\n",
        "    left_brow_center = np.mean(left_brow, axis=0)\n",
        "    right_brow_center = np.mean(right_brow, axis=0)\n",
        "    brow_distance = np.linalg.norm(left_brow_center - right_brow_center)\n",
        "\n",
        "    # Jarak antara hidung dan dagu (titik 27-8)\n",
        "    chin = np.array(landmarks[5:8])  # Titik dagu (titik 5 hingga 8)\n",
        "    nose_chin_distance = np.linalg.norm(nose_center - chin.mean(axis=0))  # Jarak dari hidung ke dagu\n",
        "\n",
        "    # Jarak antara sudut mulut (titik 48 dan 54)\n",
        "    left_corner_of_mouth = np.array(landmarks[48])  # Sudut kiri mulut (titik 48)\n",
        "    right_corner_of_mouth = np.array(landmarks[54])  # Sudut kanan mulut (titik 54)\n",
        "    mouth_corners_distance = np.linalg.norm(left_corner_of_mouth - right_corner_of_mouth)\n",
        "\n",
        "    # Menambahkan fitur ke dalam daftar\n",
        "    features.extend([eye_distance, nose_mouth_distance, brow_distance, nose_chin_distance, mouth_corners_distance])\n",
        "\n",
        "    return features\n",
        "\n",
        "# Fungsi untuk membagi gambar menjadi data latih dan data uji\n",
        "def split_images_into_train_test(image_directory, train_size=7, test_size=3):\n",
        "    all_train_images = []\n",
        "    all_train_labels = []\n",
        "    all_train_features = []\n",
        "\n",
        "    all_test_images = []\n",
        "    all_test_labels = []\n",
        "    all_test_features = []\n",
        "\n",
        "    # Menelusuri semua sub-folder dalam folder image_directory\n",
        "    for subdir, _, files in os.walk(image_directory):\n",
        "        # Ambil nama subfolder untuk digunakan sebagai label\n",
        "        subfolder_name = os.path.basename(subdir)  # Mendapatkan nama subfolder\n",
        "\n",
        "        # Mengambil file gambar yang ada dalam sub-folder\n",
        "        image_files = [f for f in files if f.lower().endswith(('.jpg', '.jpeg', '.png', '.bmp'))]\n",
        "\n",
        "        # Membagi gambar menjadi train dan test (7 untuk latih dan 3 untuk uji)\n",
        "        random.shuffle(image_files)  # Shuffle gambar secara acak\n",
        "\n",
        "        train_images = image_files[:train_size]\n",
        "        test_images = image_files[train_size:train_size + test_size]\n",
        "\n",
        "        # Menambahkan gambar latih dan fitur ke dalam list data latih\n",
        "        for image in train_images:\n",
        "            image_path = os.path.join(subdir, image)\n",
        "            landmarks = extract_landmarks(image_path)\n",
        "\n",
        "            if landmarks:\n",
        "                features = calculate_geometrical_features(landmarks)\n",
        "                all_train_images.append(image)\n",
        "                all_train_labels.append(subfolder_name)  # Menggunakan nama subfolder sebagai label\n",
        "                all_train_features.append(features)  # Menyimpan fitur wajah\n",
        "\n",
        "        # Menambahkan gambar uji dan fitur ke dalam list data uji\n",
        "        for image in test_images:\n",
        "            image_path = os.path.join(subdir, image)\n",
        "            landmarks = extract_landmarks(image_path)\n",
        "\n",
        "            if landmarks:\n",
        "                features = calculate_geometrical_features(landmarks)\n",
        "                all_test_images.append(image)\n",
        "                all_test_labels.append(subfolder_name)  # Menggunakan nama subfolder sebagai label\n",
        "                all_test_features.append(features)  # Menyimpan fitur wajah\n",
        "\n",
        "    return all_train_images, all_train_labels, all_train_features, all_test_images, all_test_labels, all_test_features\n",
        "\n",
        "# Ambil gambar dari sub-folder, bagi menjadi data latih dan data uji, serta ekstraksi fitur wajah\n",
        "train_images, train_labels, train_features, test_images, test_labels, test_features = split_images_into_train_test(image_directory)\n",
        "\n",
        "# Simpan data latih dalam DataFrame dan kemudian simpan ke CSV tanpa kolom 'Image'\n",
        "train_df = pd.DataFrame(train_features, columns=[\"Eye Distance\", \"Nose-Mouth Distance\", \"Brow Distance\", \"Nose-Chin Distance\", \"Mouth Corners Distance\"])\n",
        "train_df['Label'] = train_labels  # Menambahkan kolom Label\n",
        "\n",
        "# Simpan data uji dalam DataFrame dan kemudian simpan ke CSV tanpa kolom 'Image'\n",
        "test_df = pd.DataFrame(test_features, columns=[\"Eye Distance\", \"Nose-Mouth Distance\", \"Brow Distance\", \"Nose-Chin Distance\", \"Mouth Corners Distance\"])\n",
        "test_df['Label'] = test_labels  # Menambahkan kolom Label\n",
        "\n",
        "# Simpan sebagai file CSV tanpa kolom 'Image'\n",
        "train_df.to_csv(\"data_latih.csv\", index=False)\n",
        "test_df.to_csv(\"data_uji.csv\", index=False)\n",
        "\n",
        "print(\"Pembagian gambar menjadi data latih dan uji selesai. File CSV tanpa kolom 'Image' telah disimpan.\")\n"
      ],
      "metadata": {
        "colab": {
          "base_uri": "https://localhost:8080/"
        },
        "id": "hvc5d1T01M7I",
        "outputId": "35c92f24-7026-47be-bdac-5400f1c0e384"
      },
      "execution_count": 51,
      "outputs": [
        {
          "output_type": "stream",
          "name": "stdout",
          "text": [
            "Drive already mounted at /content/drive; to attempt to forcibly remount, call drive.mount(\"/content/drive\", force_remount=True).\n",
            "Pembagian gambar menjadi data latih dan uji selesai. File CSV tanpa kolom 'Image' telah disimpan.\n"
          ]
        }
      ]
    },
    {
      "cell_type": "markdown",
      "source": [
        "METODE KLASIFIKASI BPNN"
      ],
      "metadata": {
        "id": "tH2bzeW_0kRC"
      }
    },
    {
      "cell_type": "code",
      "source": [
        "import pandas as pd\n",
        "import numpy as np\n",
        "from sklearn.preprocessing import LabelEncoder, MinMaxScaler\n",
        "\n",
        "# Load datasets\n",
        "train_file = 'data_latih.csv'  # Training dataset\n",
        "test_file = 'data_uji.csv'  # Testing dataset\n",
        "\n",
        "df_train = pd.read_csv(train_file)\n",
        "df_test = pd.read_csv(test_file)\n",
        "\n",
        "# Extract features and labels from training data\n",
        "features = [\"Eye Distance\", \"Nose-Mouth Distance\", \"Brow Distance\", \"Nose-Chin Distance\", \"Mouth Corners Distance\"]\n",
        "x_train = df_train[features].values\n",
        "y_train = df_train['Label'].values\n",
        "\n",
        "# Encode species labels to integers\n",
        "label_encoder = LabelEncoder()\n",
        "y_train = label_encoder.fit_transform(y_train)\n",
        "\n",
        "# Normalize feature values\n",
        "scaler = MinMaxScaler()\n",
        "x_train = scaler.fit_transform(x_train)\n",
        "x_test = scaler.transform(df_test[features].values)\n",
        "\n",
        "# Define the neural network structure\n",
        "n_inputs = len(features)\n",
        "n_hidden = 5  # Number of hidden neurons\n",
        "n_outputs = len(set(y_train))  # Number of unique labels\n",
        "l_rate = 0.3  # Learning rate\n",
        "n_epoch = 500  # Number of epochs\n",
        "\n",
        "# Initialize network\n",
        "def initialize_network(n_inputs, n_hidden, n_outputs):\n",
        "    network = [\n",
        "        [{'weights': np.random.rand(n_inputs + 1)} for _ in range(n_hidden)],  # Input layer to hidden layer\n",
        "        [{'weights': np.random.rand(n_hidden + 1)} for _ in range(n_outputs)]  # Hidden layer to output layer\n",
        "    ]\n",
        "    return network\n",
        "\n",
        "# Activation function (Sigmoid)\n",
        "def sigmoid(x, derivative=False):\n",
        "    if derivative:\n",
        "        return x * (1.0 - x)\n",
        "    return 1.0 / (1.0 + np.exp(-x))\n",
        "\n",
        "# Forward propagation\n",
        "def forward_propagate(network, row):\n",
        "    inputs = row\n",
        "    for layer in network:\n",
        "        new_inputs = []\n",
        "        for neuron in layer:\n",
        "            activation = neuron['weights'][-1] + np.dot(neuron['weights'][:-1], inputs)\n",
        "            neuron['output'] = sigmoid(activation)\n",
        "            new_inputs.append(neuron['output'])\n",
        "        inputs = new_inputs\n",
        "    return inputs\n",
        "\n",
        "# Backward propagation of error\n",
        "def backward_propagate_error(network, expected):\n",
        "    for i in reversed(range(len(network))):\n",
        "        layer = network[i]\n",
        "        errors = []\n",
        "        if i != len(network) - 1:\n",
        "            for j in range(len(layer)):\n",
        "                error = sum([neuron['weights'][j] * neuron['delta'] for neuron in network[i + 1]])\n",
        "                errors.append(error)\n",
        "        else:\n",
        "            for j in range(len(layer)):\n",
        "                neuron = layer[j]\n",
        "                errors.append(expected[j] - neuron['output'])\n",
        "        for j in range(len(layer)):\n",
        "            neuron = layer[j]\n",
        "            neuron['delta'] = errors[j] * sigmoid(neuron['output'], derivative=True)\n",
        "\n",
        "# Update weights\n",
        "def update_weights(network, row, l_rate):\n",
        "    for i in range(len(network)):\n",
        "        inputs = row[:-1] if i == 0 else [neuron['output'] for neuron in network[i - 1]]\n",
        "        for neuron in network[i]:\n",
        "            for j in range(len(inputs)):\n",
        "                neuron['weights'][j] += l_rate * neuron['delta'] * inputs[j]\n",
        "            neuron['weights'][-1] += l_rate * neuron['delta']\n",
        "\n",
        "# Train the network\n",
        "def train_network(network, train, l_rate, n_epoch, n_outputs):\n",
        "    for epoch in range(n_epoch):\n",
        "        for row in train:\n",
        "            outputs = forward_propagate(network, row[:-1])\n",
        "            expected = [0 for _ in range(n_outputs)]\n",
        "            expected[int(row[-1])] = 1  # One-hot encode the expected output\n",
        "            backward_propagate_error(network, expected)\n",
        "            update_weights(network, row, l_rate)\n",
        "\n",
        "# Make a prediction\n",
        "def predict(network, row):\n",
        "    outputs = forward_propagate(network, row)\n",
        "    return outputs.index(max(outputs))  # Return the index with the highest output\n",
        "\n",
        "# Prepare training data\n",
        "train_data = np.column_stack((x_train, y_train.astype(int)))  # Add labels to the features\n",
        "network = initialize_network(n_inputs, n_hidden, n_outputs)\n",
        "\n",
        "# Train the model\n",
        "train_network(network, train_data, l_rate, n_epoch, n_outputs)\n",
        "\n",
        "# Predict on test data\n",
        "predictions = [predict(network, row) for row in x_test]\n",
        "predicted_labels = label_encoder.inverse_transform(predictions)\n",
        "\n",
        "# Save predictions\n",
        "df_test['Predicted_Label'] = predicted_labels\n",
        "df_test.to_csv('predictions.csv', index=False)\n",
        "\n",
        "print(\"Predictions saved to 'predictions.csv'\")\n"
      ],
      "metadata": {
        "colab": {
          "base_uri": "https://localhost:8080/"
        },
        "id": "wg9CpI9o0jtJ",
        "outputId": "414ccf99-ef53-4e75-a495-2da3db80a23b"
      },
      "execution_count": 52,
      "outputs": [
        {
          "output_type": "stream",
          "name": "stdout",
          "text": [
            "Predictions saved to 'predictions.csv'\n"
          ]
        }
      ]
    },
    {
      "cell_type": "code",
      "source": [
        "import pandas as pd\n",
        "import matplotlib.pyplot as plt\n",
        "import seaborn as sns\n",
        "from sklearn.metrics import confusion_matrix\n",
        "\n",
        "# Load the actual output and predicted output files\n",
        "actual_file = 'data_uji.csv'  # File with actual labels\n",
        "predicted_file = 'predictions.csv'  # File with predicted labels\n",
        "\n",
        "df_actual = pd.read_csv(actual_file)\n",
        "df_predicted = pd.read_csv(predicted_file)\n",
        "\n",
        "# Extract the columns of interest\n",
        "actual_labels = df_actual['Label']\n",
        "predicted_labels = df_predicted['Predicted_Label']\n",
        "\n",
        "# Compare actual and predicted labels\n",
        "correct_predictions = (actual_labels == predicted_labels).sum()\n",
        "total_predictions = len(actual_labels)\n",
        "\n",
        "# Calculate accuracy\n",
        "accuracy = (correct_predictions / total_predictions) * 100\n",
        "print(f'Tingkat keakuratan metode klasifikasi: {accuracy:.2f}%')\n",
        "\n",
        "# --- Confusion Matrix Visualization ---\n",
        "cm = confusion_matrix(actual_labels, predicted_labels)\n",
        "\n",
        "# Plot Confusion Matrix using Seaborn heatmap\n",
        "plt.figure(figsize=(8, 6))\n",
        "sns.heatmap(cm, annot=True, fmt='d', cmap='Blues', xticklabels=label_encoder.classes_, yticklabels=label_encoder.classes_)\n",
        "plt.title(\"Confusion Matrix\")\n",
        "plt.xlabel('Predicted Labels')\n",
        "plt.ylabel('Actual Labels')\n",
        "plt.show()\n",
        "\n",
        "# --- Bar Plot for Correct vs Incorrect Predictions ---\n",
        "incorrect_predictions = total_predictions - correct_predictions\n",
        "labels = ['Correct', 'Incorrect']\n",
        "values = [correct_predictions, incorrect_predictions]\n",
        "\n",
        "plt.figure(figsize=(6, 4))\n",
        "plt.bar(labels, values, color=['green', 'red'])\n",
        "plt.title('Correct vs Incorrect Predictions')\n",
        "plt.ylabel('Number of Predictions')\n",
        "plt.show()\n",
        "\n"
      ],
      "metadata": {
        "colab": {
          "base_uri": "https://localhost:8080/",
          "height": 955
        },
        "id": "6Mo71YNU-5tW",
        "outputId": "4d81414b-afee-4b31-acdb-9d4c6245e08c"
      },
      "execution_count": 59,
      "outputs": [
        {
          "output_type": "stream",
          "name": "stdout",
          "text": [
            "Tingkat keakuratan metode klasifikasi: 100.00%\n"
          ]
        },
        {
          "output_type": "display_data",
          "data": {
            "text/plain": [
              "<Figure size 800x600 with 2 Axes>"
            ],
            "image/png": "[encoded data removed]"
          },
          "metadata": {}
        },
        {
          "output_type": "display_data",
          "data": {
            "text/plain": [
              "<Figure size 600x400 with 1 Axes>"
            ],
            "image/png": "[encoded data removed]"
          },
          "metadata": {}
        }
      ]
    },
    {
      "cell_type": "code",
      "source": [],
      "metadata": {
        "id": "4EYhPW4KAVBY"
      },
      "execution_count": 59,
      "outputs": []
    }
  ]
}