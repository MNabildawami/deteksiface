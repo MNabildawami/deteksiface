{
  "nbformat": 4,
  "nbformat_minor": 0,
  "metadata": {
    "colab": {
      "provenance": [],
      "mount_file_id": "17M3r4H0jAnMy9SaJL94rUFqe4lf7USeY",
      "authorship_tag": "ABX9TyOc64sTWfQOo9w8gSew2r7U",
      "include_colab_link": true
    },
    "kernelspec": {
      "name": "python3",
      "display_name": "Python 3"
    },
    "language_info": {
      "name": "python"
    }
  },
  "cells": [
    {
      "cell_type": "markdown",
      "metadata": {
        "id": "view-in-github",
        "colab_type": "text"
      },
      "source": [
        "<a href=\"https://colab.research.google.com/github/MNabildawami/deteksiface/blob/main/deteksiface.ipynb\" target=\"_parent\"><img src=\"https://colab.research.google.com/assets/colab-badge.svg\" alt=\"Open In Colab\"/></a>"
      ]
    },
    {
      "cell_type": "code",
      "source": [
        "!pip install pyheif\n"
      ],
      "metadata": {
        "colab": {
          "base_uri": "https://localhost:8080/"
        },
        "id": "bfFKOsheWQ7P",
        "outputId": "79df3f60-c701-4bda-e547-31ff7e5426f8"
      },
      "execution_count": 12,
      "outputs": [
        {
          "output_type": "stream",
          "name": "stdout",
          "text": [
            "Collecting pyheif\n",
            "  Downloading pyheif-0.8.0-cp310-cp310-manylinux_2_17_x86_64.manylinux2014_x86_64.whl.metadata (4.7 kB)\n",
            "Requirement already satisfied: cffi>=1.0.0 in /usr/local/lib/python3.10/dist-packages (from pyheif) (1.17.1)\n",
            "Requirement already satisfied: pycparser in /usr/local/lib/python3.10/dist-packages (from cffi>=1.0.0->pyheif) (2.22)\n",
            "Downloading pyheif-0.8.0-cp310-cp310-manylinux_2_17_x86_64.manylinux2014_x86_64.whl (5.3 MB)\n",
            "\u001b[2K   \u001b[90m━━━━━━━━━━━━━━━━━━━━━━━━━━━━━━━━━━━━━━━━\u001b[0m \u001b[32m5.3/5.3 MB\u001b[0m \u001b[31m21.5 MB/s\u001b[0m eta \u001b[36m0:00:00\u001b[0m\n",
            "\u001b[?25hInstalling collected packages: pyheif\n",
            "Successfully installed pyheif-0.8.0\n"
          ]
        }
      ]
    },
    {
      "cell_type": "code",
      "source": [
        "from google.colab import drive\n",
        "drive.mount('/content/drive')\n"
      ],
      "metadata": {
        "colab": {
          "base_uri": "https://localhost:8080/"
        },
        "id": "uuNOnmjHWstT",
        "outputId": "fdb7ff0a-dabc-42a4-f5ba-828c6b13b537"
      },
      "execution_count": 15,
      "outputs": [
        {
          "output_type": "stream",
          "name": "stdout",
          "text": [
            "Drive already mounted at /content/drive; to attempt to forcibly remount, call drive.mount(\"/content/drive\", force_remount=True).\n"
          ]
        }
      ]
    },
    {
      "cell_type": "code",
      "execution_count": 36,
      "metadata": {
        "colab": {
          "base_uri": "https://localhost:8080/",
          "height": 750
        },
        "id": "qTIVlSz2Pk1S",
        "outputId": "1b768f3b-3766-43fd-c244-3863a36c3b99"
      },
      "outputs": [
        {
          "output_type": "stream",
          "name": "stdout",
          "text": [
            "SVM Model Accuracy: 66.67%\n",
            "\n",
            "Classification Report:\n",
            "              precision    recall  f1-score   support\n",
            "\n",
            "       Fajri       1.00      1.00      1.00         3\n",
            "      Gilang       1.00      0.50      0.67         2\n",
            "       Surya       0.25      1.00      0.40         1\n",
            "       nabil       1.00      0.33      0.50         3\n",
            "\n",
            "    accuracy                           0.67         9\n",
            "   macro avg       0.81      0.71      0.64         9\n",
            "weighted avg       0.92      0.67      0.69         9\n",
            "\n"
          ]
        },
        {
          "output_type": "display_data",
          "data": {
            "text/plain": [
              "<Figure size 640x480 with 2 Axes>"
            ],
            "image/png": "[encoded data removed]"
          },
          "metadata": {}
        },
        {
          "output_type": "stream",
          "name": "stdout",
          "text": [
            "Image at /content/drive/MyDrive/footage item pengpol/data_uji/fajri1.jpg could not be loaded.\n",
            "No face detected in test image!\n"
          ]
        }
      ],
      "source": [
        "import cv2\n",
        "import dlib\n",
        "import os\n",
        "import pandas as pd\n",
        "import numpy as np\n",
        "from sklearn.svm import SVC\n",
        "from sklearn.model_selection import train_test_split\n",
        "from sklearn.metrics import accuracy_score, classification_report, confusion_matrix\n",
        "from imblearn.over_sampling import SMOTE\n",
        "import pyheif\n",
        "from PIL import Image\n",
        "import io\n",
        "import matplotlib.pyplot as plt\n",
        "import seaborn as sns\n",
        "\n",
        "# Download and extract the model file if not already extracted\n",
        "model_path = \"shape_predictor_68_face_landmarks.dat\"\n",
        "if not os.path.exists(model_path):\n",
        "    !wget http://dlib.net/files/shape_predictor_68_face_landmarks.dat.bz2\n",
        "    !bzip2 -d shape_predictor_68_face_landmarks.dat.bz2\n",
        "\n",
        "# Load face detector and landmark predictor model\n",
        "detector = dlib.get_frontal_face_detector()\n",
        "predictor = dlib.shape_predictor(model_path)\n",
        "\n",
        "# Function to extract face landmarks data\n",
        "def extract_face_landmarks_data(image):\n",
        "    gray = cv2.cvtColor(image, cv2.COLOR_BGR2GRAY)\n",
        "    faces = detector(gray)\n",
        "\n",
        "    if len(faces) == 0:\n",
        "        print(\"No faces detected.\")\n",
        "        return None\n",
        "\n",
        "    landmarks_data = []\n",
        "    for face in faces:\n",
        "        landmarks = predictor(gray, face)\n",
        "        for n in range(0, 68):\n",
        "            x = landmarks.part(n).x\n",
        "            y = landmarks.part(n).y\n",
        "            landmarks_data.append((x, y))  # Add (x, y) coordinates to list\n",
        "    return landmarks_data\n",
        "\n",
        "# Function to read HEIC images\n",
        "def read_heic_image(heic_file):\n",
        "    heif_file = pyheif.read(heic_file)\n",
        "    image = Image.open(io.BytesIO(heif_file.data))\n",
        "    return np.array(image)\n",
        "\n",
        "# Function to process images in folder\n",
        "def process_folder_images(folder_path):\n",
        "    data = []\n",
        "    labels = []\n",
        "\n",
        "    if not os.path.exists(folder_path):\n",
        "        print(f\"Folder {folder_path} does not exist!\")\n",
        "        return None, None\n",
        "\n",
        "    # Loop through all subfolders in the main folder\n",
        "    for folder_name in os.listdir(folder_path):\n",
        "        folder = os.path.join(folder_path, folder_name)\n",
        "\n",
        "        if os.path.isdir(folder):\n",
        "            # Loop through all images in the subfolder\n",
        "            for file_name in os.listdir(folder):\n",
        "                file_path = os.path.join(folder, file_name)\n",
        "\n",
        "                if file_name.lower().endswith(('.jpg', '.jpeg', '.png', '.heic')):  # Filter image files\n",
        "                    try:\n",
        "                        if file_name.lower().endswith('.heic'):\n",
        "                            image = read_heic_image(file_path)\n",
        "                        else:\n",
        "                            image = cv2.imread(file_path)\n",
        "\n",
        "                        if image is None:\n",
        "                            print(f\"Image {file_name} not found or could not be loaded!\")\n",
        "                            continue\n",
        "\n",
        "                        landmarks_data = extract_face_landmarks_data(image)\n",
        "\n",
        "                        if landmarks_data is not None:\n",
        "                            flattened_landmarks = [coord for point in landmarks_data for coord in point]\n",
        "                            data.append(flattened_landmarks)\n",
        "                            labels.append(folder_name)\n",
        "\n",
        "                    except Exception as e:\n",
        "                        print(f\"Error processing {file_name}: {e}\")\n",
        "                        continue\n",
        "\n",
        "    # Create dataframe for the data\n",
        "    column_names = [f'x{i+1}' for i in range(68)] + [f'y{i+1}' for i in range(68)]\n",
        "    df = pd.DataFrame(data, columns=column_names)\n",
        "\n",
        "    return df, labels\n",
        "\n",
        "# Define predict_image function\n",
        "def predict_image(image_path):\n",
        "    image = cv2.imread(image_path)\n",
        "\n",
        "    if image is None:\n",
        "        print(f\"Image at {image_path} could not be loaded.\")\n",
        "        return None\n",
        "\n",
        "    landmarks_data = extract_face_landmarks_data(image)\n",
        "\n",
        "    if landmarks_data is None:\n",
        "        print(\"No face detected in the image!\")\n",
        "        return None\n",
        "\n",
        "    flattened_landmarks = [coord for point in landmarks_data for coord in point]\n",
        "    predicted_name = svm_classifier.predict([flattened_landmarks])\n",
        "\n",
        "    return predicted_name[0]\n",
        "\n",
        "# Set folder paths for training and testing data\n",
        "train_folder_path = '/content/drive/MyDrive/footage item pengpol /data_latih'\n",
        "test_folder_path = '/content/drive/MyDrive/footage item pengpol/data_uji'\n",
        "\n",
        "# Ensure that the training folder exists\n",
        "if not os.path.exists(train_folder_path):\n",
        "    print(f\"Training folder '{train_folder_path}' does not exist.\")\n",
        "else:\n",
        "    # Process all images in the training folder\n",
        "    landmarks_df, labels = process_folder_images(train_folder_path)\n",
        "\n",
        "    if landmarks_df is not None:\n",
        "        # Split dataset into training and testing sets (70% training, 30% testing)\n",
        "        X_train, X_test, y_train, y_test = train_test_split(landmarks_df, labels, test_size=0.3, random_state=42)\n",
        "\n",
        "        # Handle class imbalance using SMOTE\n",
        "        smote = SMOTE(random_state=42, k_neighbors=1)\n",
        "        X_train_resampled, y_train_resampled = smote.fit_resample(X_train, y_train)\n",
        "\n",
        "        # Train an SVM classifier with RBF kernel\n",
        "        svm_classifier = SVC(kernel='rbf', gamma='scale')\n",
        "        svm_classifier.fit(X_train_resampled, y_train_resampled)\n",
        "\n",
        "        # Predict labels for test data\n",
        "        y_pred = svm_classifier.predict(X_test)\n",
        "\n",
        "        # Evaluate the classifier\n",
        "        accuracy = accuracy_score(y_test, y_pred)\n",
        "        print(f\"SVM Model Accuracy: {accuracy * 100:.2f}%\")\n",
        "\n",
        "        # Display classification report\n",
        "        print(\"\\nClassification Report:\")\n",
        "        print(classification_report(y_test, y_pred))\n",
        "\n",
        "        # Display confusion matrix\n",
        "        cm = confusion_matrix(y_test, y_pred)\n",
        "        sns.heatmap(cm, annot=True, fmt=\"d\", cmap=\"Blues\", xticklabels=np.unique(labels), yticklabels=np.unique(labels))\n",
        "        plt.title(\"Confusion Matrix\")\n",
        "        plt.xlabel(\"Predicted Label\")\n",
        "        plt.ylabel(\"True Label\")\n",
        "        plt.show()\n",
        "\n",
        "        # Test with an image\n",
        "        test_image_path = '/content/drive/MyDrive/footage item pengpol/data_uji/fajri1.jpg'\n",
        "        predicted_name = predict_image(test_image_path)\n",
        "\n",
        "        if predicted_name:\n",
        "            print(f\"Predicted Name: {predicted_name}\")\n",
        "        else:\n",
        "            print(\"No face detected in test image!\")\n"
      ]
    }
  ]
}